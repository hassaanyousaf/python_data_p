{
 "cells": [
  {
   "cell_type": "code",
   "execution_count": null,
   "id": "6008620e",
   "metadata": {},
   "outputs": [],
   "source": [
    "import pandas as pd\n",
    "import ast\n",
    "import matplotlib.pyplot as plt\n",
    "from datasets import load_dataset\n",
    "dataset=load_dataset('lukebarousse/data_jobs')\n",
    "df=dataset[\"train\"].to_pandas()\n",
    "df['job_posted_date']=pd.to_datetime(df.job_posted_date)\n",
    "df[\"job_skills\"]=df[\"job_skills\"].apply(lambda x:ast.literal_eval(x) if pd.notna(x) else x)"
   ]
  },
  {
   "cell_type": "code",
   "execution_count": null,
   "id": "4948a0b3",
   "metadata": {},
   "outputs": [],
   "source": [
    "#top 5 Data Analyst Skills For each month:\n",
    "df_Data_Analyst=df[df[\"job_title_short\"]==\"Data Analyst\"].copy()\n",
    "df_Data_Analyst['job_posted_month']=df_Data_Analyst['job_posted_date'].dt.strftime('%b')\n",
    "df_DA_exploded= df_Data_Analyst.explode(\"job_skills\")\n",
    "df_DA_exploded.pivot_table(index='job_posted_month', columns='job_skills', aggfunc='size', fill_value=0)\n"
   ]
  }
 ],
 "metadata": {
  "kernelspec": {
   "display_name": "pythonproj",
   "language": "python",
   "name": "python3"
  },
  "language_info": {
   "codemirror_mode": {
    "name": "ipython",
    "version": 3
   },
   "file_extension": ".py",
   "mimetype": "text/x-python",
   "name": "python",
   "nbconvert_exporter": "python",
   "pygments_lexer": "ipython3",
   "version": "3.11.11"
  }
 },
 "nbformat": 4,
 "nbformat_minor": 5
}
