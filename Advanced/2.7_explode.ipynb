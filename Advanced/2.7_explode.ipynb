{
 "cells": [
  {
   "cell_type": "code",
   "execution_count": 2,
   "id": "d6e624b1",
   "metadata": {},
   "outputs": [
    {
     "name": "stderr",
     "output_type": "stream",
     "text": [
      "c:\\Users\\Hassaan Yousaf\\anaconda3\\envs\\pythonproj\\Lib\\site-packages\\tqdm\\auto.py:21: TqdmWarning: IProgress not found. Please update jupyter and ipywidgets. See https://ipywidgets.readthedocs.io/en/stable/user_install.html\n",
      "  from .autonotebook import tqdm as notebook_tqdm\n"
     ]
    }
   ],
   "source": [
    "import pandas as pd\n",
    "from datasets import load_dataset\n",
    "dataset=load_dataset('lukebarousse/data_jobs')\n",
    "df=dataset[\"train\"].to_pandas()\n",
    "df['job_posted_date']=pd.to_datetime(df.job_posted_date)\n",
    "import ast\n",
    "skills = ast.literal_eval(df['job_skills'][0]) if isinstance(df['job_skills'][0], str) else None\n",
    "def clean_list(skills):\n",
    "    if pd.notna(skills):\n",
    "\n",
    "        return ast.literal_eval(skills)\n",
    "    df['job_skills']=df['job_skills'].apply(clean_list)"
   ]
  },
  {
   "cell_type": "code",
   "execution_count": null,
   "id": "aca6ce1b",
   "metadata": {},
   "outputs": [
    {
     "data": {
      "text/html": [
       "<div>\n",
       "<style scoped>\n",
       "    .dataframe tbody tr th:only-of-type {\n",
       "        vertical-align: middle;\n",
       "    }\n",
       "\n",
       "    .dataframe tbody tr th {\n",
       "        vertical-align: top;\n",
       "    }\n",
       "\n",
       "    .dataframe thead th {\n",
       "        text-align: right;\n",
       "    }\n",
       "</style>\n",
       "<table border=\"1\" class=\"dataframe\">\n",
       "  <thead>\n",
       "    <tr style=\"text-align: right;\">\n",
       "      <th></th>\n",
       "      <th>job_title_short</th>\n",
       "      <th>job_skills</th>\n",
       "      <th>skill_count</th>\n",
       "    </tr>\n",
       "  </thead>\n",
       "  <tbody>\n",
       "    <tr>\n",
       "      <th>19078</th>\n",
       "      <td>Data Analyst</td>\n",
       "      <td>['excel']</td>\n",
       "      <td>8095</td>\n",
       "    </tr>\n",
       "    <tr>\n",
       "      <th>49382</th>\n",
       "      <td>Data Analyst</td>\n",
       "      <td>['sql']</td>\n",
       "      <td>4997</td>\n",
       "    </tr>\n",
       "    <tr>\n",
       "      <th>136380</th>\n",
       "      <td>Data Scientist</td>\n",
       "      <td>['python']</td>\n",
       "      <td>4659</td>\n",
       "    </tr>\n",
       "    <tr>\n",
       "      <th>35354</th>\n",
       "      <td>Data Analyst</td>\n",
       "      <td>['sql', 'excel']</td>\n",
       "      <td>3020</td>\n",
       "    </tr>\n",
       "    <tr>\n",
       "      <th>1233</th>\n",
       "      <td>Business Analyst</td>\n",
       "      <td>['excel']</td>\n",
       "      <td>2443</td>\n",
       "    </tr>\n",
       "    <tr>\n",
       "      <th>...</th>\n",
       "      <td>...</td>\n",
       "      <td>...</td>\n",
       "      <td>...</td>\n",
       "    </tr>\n",
       "    <tr>\n",
       "      <th>12</th>\n",
       "      <td>Business Analyst</td>\n",
       "      <td>['alteryx', 'tableau', 'power bi', 'excel']</td>\n",
       "      <td>1</td>\n",
       "    </tr>\n",
       "    <tr>\n",
       "      <th>13</th>\n",
       "      <td>Business Analyst</td>\n",
       "      <td>['alteryx', 'tableau', 'power bi', 'looker']</td>\n",
       "      <td>1</td>\n",
       "    </tr>\n",
       "    <tr>\n",
       "      <th>14</th>\n",
       "      <td>Business Analyst</td>\n",
       "      <td>['alteryx', 'tableau', 'qlik']</td>\n",
       "      <td>1</td>\n",
       "    </tr>\n",
       "    <tr>\n",
       "      <th>19</th>\n",
       "      <td>Business Analyst</td>\n",
       "      <td>['angular', 'excel', 'tableau']</td>\n",
       "      <td>1</td>\n",
       "    </tr>\n",
       "    <tr>\n",
       "      <th>215204</th>\n",
       "      <td>Software Engineer</td>\n",
       "      <td>['word', 'excel', 'smartsheet']</td>\n",
       "      <td>1</td>\n",
       "    </tr>\n",
       "  </tbody>\n",
       "</table>\n",
       "<p>215220 rows × 3 columns</p>\n",
       "</div>"
      ],
      "text/plain": [
       "          job_title_short                                    job_skills  \\\n",
       "19078        Data Analyst                                     ['excel']   \n",
       "49382        Data Analyst                                       ['sql']   \n",
       "136380     Data Scientist                                    ['python']   \n",
       "35354        Data Analyst                              ['sql', 'excel']   \n",
       "1233     Business Analyst                                     ['excel']   \n",
       "...                   ...                                           ...   \n",
       "12       Business Analyst   ['alteryx', 'tableau', 'power bi', 'excel']   \n",
       "13       Business Analyst  ['alteryx', 'tableau', 'power bi', 'looker']   \n",
       "14       Business Analyst                ['alteryx', 'tableau', 'qlik']   \n",
       "19       Business Analyst               ['angular', 'excel', 'tableau']   \n",
       "215204  Software Engineer               ['word', 'excel', 'smartsheet']   \n",
       "\n",
       "        skill_count  \n",
       "19078          8095  \n",
       "49382          4997  \n",
       "136380         4659  \n",
       "35354          3020  \n",
       "1233           2443  \n",
       "...             ...  \n",
       "12                1  \n",
       "13                1  \n",
       "14                1  \n",
       "19                1  \n",
       "215204            1  \n",
       "\n",
       "[215220 rows x 3 columns]"
      ]
     },
     "execution_count": 3,
     "metadata": {},
     "output_type": "execute_result"
    }
   ],
   "source": [
    "df_exploded=df.explode('job_skills')\n",
    "skill_count=df_exploded.groupby(['job_title_short', 'job_skills']).size().reset_index(name='skill_count')\n",
    "skill_count=skill_count.sort_values(by='skill_count',ascending=False )\n",
    "skill_count"
   ]
  },
  {
   "cell_type": "code",
   "execution_count": 20,
   "id": "5d4d5b1c",
   "metadata": {},
   "outputs": [
    {
     "data": {
      "image/png": "[encoded data removed]",
      "text/plain": [
       "<Figure size 640x480 with 1 Axes>"
      ]
     },
     "metadata": {},
     "output_type": "display_data"
    }
   ],
   "source": [
    "import matplotlib.pyplot as plt\n",
    "job_title = \"Data Analyst\"\n",
    "Total_skills = 10\n",
    "\n",
    "df_skills = skill_count[skill_count[\"job_title_short\"] == job_title].head(Total_skills)\n",
    "df_skills.plot(kind=\"barh\", x=\"job_skills\", y=\"skill_count\")\n",
    "plt.title(f\"Top skills for {job_title}\")\n",
    "plt.xlabel(\"job skills\")\n",
    "plt.ylabel(\"skill_count\")\n",
    "plt.gca().invert_yaxis()"
   ]
  }
 ],
 "metadata": {
  "kernelspec": {
   "display_name": "pythonproj",
   "language": "python",
   "name": "python3"
  },
  "language_info": {
   "codemirror_mode": {
    "name": "ipython",
    "version": 3
   },
   "file_extension": ".py",
   "mimetype": "text/x-python",
   "name": "python",
   "nbconvert_exporter": "python",
   "pygments_lexer": "ipython3",
   "version": "3.11.11"
  }
 },
 "nbformat": 4,
 "nbformat_minor": 5
}
